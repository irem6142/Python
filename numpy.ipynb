{
 "cells": [
  {
   "cell_type": "code",
   "execution_count": 1,
   "id": "5e38387b-55d5-448c-a1de-38856f7f84a5",
   "metadata": {},
   "outputs": [],
   "source": [
    "import numpy as np"
   ]
  },
  {
   "cell_type": "markdown",
   "id": "42a51e09-302a-4720-b143-0978f4c6c16e",
   "metadata": {
    "tags": []
   },
   "source": [
    "# (10,15,30,45,60) sayılarını numpy dizisi yapınız"
   ]
  },
  {
   "cell_type": "code",
   "execution_count": 2,
   "id": "8947f367-8194-49f0-88a5-c18dbd42d94e",
   "metadata": {},
   "outputs": [
    {
     "data": {
      "text/plain": [
       "array([10, 15, 30, 45, 60])"
      ]
     },
     "execution_count": 2,
     "metadata": {},
     "output_type": "execute_result"
    }
   ],
   "source": [
    "np.array([10,15,30,45,60])"
   ]
  },
  {
   "cell_type": "markdown",
   "id": "57e0a33e-062e-4464-9ba9-426c4f1e09e7",
   "metadata": {},
   "source": [
    "# (5-15) arasındaki sayılarla numpy dizisi"
   ]
  },
  {
   "cell_type": "code",
   "execution_count": 3,
   "id": "0da46d25-81c5-4121-9a29-7a2d0900780e",
   "metadata": {},
   "outputs": [
    {
     "data": {
      "text/plain": [
       "array([ 5,  6,  7,  8,  9, 10, 11, 12, 13, 14])"
      ]
     },
     "execution_count": 3,
     "metadata": {},
     "output_type": "execute_result"
    }
   ],
   "source": [
    "np.arange(5,15)"
   ]
  },
  {
   "cell_type": "markdown",
   "id": "5f95e1f5-9fb9-4068-ae25-d46eed22682c",
   "metadata": {},
   "source": [
    "# 50-100 arasında beşer artan numpy dizisi"
   ]
  },
  {
   "cell_type": "code",
   "execution_count": 4,
   "id": "5dbd73f7-1bc4-4c6c-ace9-6f9948c62b6c",
   "metadata": {},
   "outputs": [
    {
     "data": {
      "text/plain": [
       "array([50, 55, 60, 65, 70, 75, 80, 85, 90, 95])"
      ]
     },
     "execution_count": 4,
     "metadata": {},
     "output_type": "execute_result"
    }
   ],
   "source": [
    "np.arange(50,100,5)"
   ]
  },
  {
   "cell_type": "markdown",
   "id": "c4bc85d4-8074-45e8-906d-6969d9fc4faf",
   "metadata": {},
   "source": [
    "# 10 elemanlı sıfırladan oluşan bir dizi"
   ]
  },
  {
   "cell_type": "code",
   "execution_count": 5,
   "id": "d185c1a8-fa05-42c7-8859-8adde7d3e753",
   "metadata": {},
   "outputs": [
    {
     "data": {
      "text/plain": [
       "array([0., 0., 0., 0., 0., 0., 0., 0., 0., 0.])"
      ]
     },
     "execution_count": 5,
     "metadata": {},
     "output_type": "execute_result"
    }
   ],
   "source": [
    "np.zeros(10)"
   ]
  },
  {
   "cell_type": "markdown",
   "id": "f31b6001-4187-4a2b-b24a-d86b8a963756",
   "metadata": {},
   "source": [
    "# 10 elemanlı birlerden oluşan dizi"
   ]
  },
  {
   "cell_type": "code",
   "execution_count": 6,
   "id": "1f7edeb8-f848-4717-9f03-d416a5188898",
   "metadata": {},
   "outputs": [
    {
     "data": {
      "text/plain": [
       "array([1., 1., 1., 1., 1., 1., 1., 1., 1., 1.])"
      ]
     },
     "execution_count": 6,
     "metadata": {},
     "output_type": "execute_result"
    }
   ],
   "source": [
    "np.ones(10)"
   ]
  },
  {
   "cell_type": "markdown",
   "id": "b16e2ad5-1795-40a7-9692-50feb5107a96",
   "metadata": {},
   "source": [
    "# 0-100 arasında eşit aralıklı 5 sayı "
   ]
  },
  {
   "cell_type": "code",
   "execution_count": 7,
   "id": "1e6c18d3-5706-48ce-b49b-1e3d6b1aedd8",
   "metadata": {},
   "outputs": [
    {
     "data": {
      "text/plain": [
       "array([  0.,  25.,  50.,  75., 100.])"
      ]
     },
     "execution_count": 7,
     "metadata": {},
     "output_type": "execute_result"
    }
   ],
   "source": [
    "np.linspace(0,100,5)"
   ]
  },
  {
   "cell_type": "markdown",
   "id": "92e03173-b4a1-4dfa-b3d3-d738decc0129",
   "metadata": {},
   "source": [
    "# 10-30 arasında rastgele 5 sayı "
   ]
  },
  {
   "cell_type": "code",
   "execution_count": 9,
   "id": "c8645a43-90e5-4ad6-aac8-ca00c37c0329",
   "metadata": {},
   "outputs": [
    {
     "data": {
      "text/plain": [
       "array([10, 14, 29, 28, 27])"
      ]
     },
     "execution_count": 9,
     "metadata": {},
     "output_type": "execute_result"
    }
   ],
   "source": [
    "np.random.randint(10,30,5)"
   ]
  },
  {
   "cell_type": "markdown",
   "id": "a96beeae-5a9c-48dd-842e-1e2b25a67b4e",
   "metadata": {},
   "source": [
    "# [-1,1] aralığında 10 adet sayı"
   ]
  },
  {
   "cell_type": "code",
   "execution_count": 15,
   "id": "2f9b2333-508a-4703-aae1-82f6ff7a00ed",
   "metadata": {},
   "outputs": [
    {
     "data": {
      "text/plain": [
       "array([ 0.64796675,  1.16135918, -1.16648066, -0.06885252, -2.70049447,\n",
       "       -0.87525401,  0.80610669,  0.67981711, -0.74867849, -2.00855722])"
      ]
     },
     "execution_count": 15,
     "metadata": {},
     "output_type": "execute_result"
    }
   ],
   "source": [
    "np.random.randn(10)"
   ]
  },
  {
   "cell_type": "markdown",
   "id": "b0ae4082-0a4a-4787-ac6e-0f2b48b39307",
   "metadata": {},
   "source": [
    "# (3x5) boyutlarında (10-50) arasında rastgele bir matris"
   ]
  },
  {
   "cell_type": "code",
   "execution_count": 58,
   "id": "ee508771-ff94-45c0-ac50-1da7b5ef5ef4",
   "metadata": {},
   "outputs": [],
   "source": [
    "matris=np.random.randint(10,50,15).reshape(3,5)\n"
   ]
  },
  {
   "cell_type": "code",
   "execution_count": 59,
   "id": "3e9233d8-b00c-41cc-b2a4-8c66e7d4d382",
   "metadata": {},
   "outputs": [
    {
     "name": "stdout",
     "output_type": "stream",
     "text": [
      "[[20 48 28 16 25]\n",
      " [33 21 24 47 15]\n",
      " [34 35 28 21 33]]\n"
     ]
    }
   ],
   "source": [
    "print(matris)"
   ]
  },
  {
   "cell_type": "markdown",
   "id": "a919d06f-350e-4d35-8730-a827baf76c26",
   "metadata": {},
   "source": [
    "# Üretilen matrisin satır ve sütun sayılarının toplamı"
   ]
  },
  {
   "cell_type": "code",
   "execution_count": 76,
   "id": "a766f006-de19-4161-b880-c92b3f0526bc",
   "metadata": {},
   "outputs": [
    {
     "data": {
      "text/plain": [
       "array([ 87, 104,  80,  84,  73])"
      ]
     },
     "execution_count": 76,
     "metadata": {},
     "output_type": "execute_result"
    }
   ],
   "source": [
    "matris.sum(axis=0) #sütun"
   ]
  },
  {
   "cell_type": "code",
   "execution_count": 77,
   "id": "4299384f-883c-4e74-91e8-0e867ea55753",
   "metadata": {},
   "outputs": [
    {
     "data": {
      "text/plain": [
       "array([137, 140, 151])"
      ]
     },
     "execution_count": 77,
     "metadata": {},
     "output_type": "execute_result"
    }
   ],
   "source": [
    "matris.sum(axis=1) #satır"
   ]
  },
  {
   "cell_type": "markdown",
   "id": "772cf0da-0957-4f27-abed-c2a9a75f4cb0",
   "metadata": {},
   "source": [
    " # Üretilen matrisin en büyük elemanı"
   ]
  },
  {
   "cell_type": "code",
   "execution_count": 64,
   "id": "f22518cd-cc97-473c-98fc-84d472b56273",
   "metadata": {},
   "outputs": [
    {
     "data": {
      "text/plain": [
       "48"
      ]
     },
     "execution_count": 64,
     "metadata": {},
     "output_type": "execute_result"
    }
   ],
   "source": [
    "matris.max()"
   ]
  },
  {
   "cell_type": "markdown",
   "id": "6ef1b4a1-2a94-434a-8ed5-8d5fa4af7246",
   "metadata": {},
   "source": [
    " # Üretilen matrisin en küçük elemanı"
   ]
  },
  {
   "cell_type": "code",
   "execution_count": 47,
   "id": "454053a9-282f-4729-8146-a76ec9600e62",
   "metadata": {},
   "outputs": [
    {
     "data": {
      "text/plain": [
       "10"
      ]
     },
     "execution_count": 47,
     "metadata": {},
     "output_type": "execute_result"
    }
   ],
   "source": [
    "matris.min()"
   ]
  },
  {
   "cell_type": "markdown",
   "id": "1f6a753f-5466-4191-bf13-b03736f8bfb8",
   "metadata": {},
   "source": [
    "# Üretilen matrisin ortalaması"
   ]
  },
  {
   "cell_type": "code",
   "execution_count": 65,
   "id": "1d1e97df-a189-43f1-9c11-45b1968413f4",
   "metadata": {},
   "outputs": [
    {
     "data": {
      "text/plain": [
       "28.533333333333335"
      ]
     },
     "execution_count": 65,
     "metadata": {},
     "output_type": "execute_result"
    }
   ],
   "source": [
    "matris.mean()"
   ]
  },
  {
   "cell_type": "markdown",
   "id": "890cf9bd-82ea-4adb-b144-257b2dddb9fb",
   "metadata": {},
   "source": [
    "# Üretilen matrisin en büyük elemanı kaçıncı indekste"
   ]
  },
  {
   "cell_type": "code",
   "execution_count": 66,
   "id": "f6a44bb6-3e2e-4a76-a00e-53d6fed03d2b",
   "metadata": {},
   "outputs": [
    {
     "data": {
      "text/plain": [
       "1"
      ]
     },
     "execution_count": 66,
     "metadata": {},
     "output_type": "execute_result"
    }
   ],
   "source": [
    "matris.argmax()"
   ]
  },
  {
   "cell_type": "markdown",
   "id": "770c5637-0104-4ac8-ab5e-11c0cb17e56b",
   "metadata": {},
   "source": [
    " # (10-20) arasındaki sayıları içeren dizinin ilk 3 elemanı"
   ]
  },
  {
   "cell_type": "code",
   "execution_count": 48,
   "id": "7f7fa52a-f6c7-4166-8446-0206ddea78e0",
   "metadata": {},
   "outputs": [],
   "source": [
    "arr=np.arange(10,20)"
   ]
  },
  {
   "cell_type": "code",
   "execution_count": 49,
   "id": "7b5c42f2-fc23-472e-bcdc-53687d2ac6cf",
   "metadata": {},
   "outputs": [
    {
     "name": "stdout",
     "output_type": "stream",
     "text": [
      "[10 11 12 13 14 15 16 17 18 19]\n"
     ]
    }
   ],
   "source": [
    "print(arr)"
   ]
  },
  {
   "cell_type": "code",
   "execution_count": 50,
   "id": "d0ca9bc6-76bd-4046-a1f4-d0b3e4814a8b",
   "metadata": {},
   "outputs": [
    {
     "data": {
      "text/plain": [
       "array([10, 11, 12])"
      ]
     },
     "execution_count": 50,
     "metadata": {},
     "output_type": "execute_result"
    }
   ],
   "source": [
    "arr[:3]"
   ]
  },
  {
   "cell_type": "markdown",
   "id": "27bbf3b9-3593-42eb-bf06-333e1e42a9d7",
   "metadata": {},
   "source": [
    "# Üretilen diziyi tersten yazdırın"
   ]
  },
  {
   "cell_type": "code",
   "execution_count": 51,
   "id": "d59d8bf6-05e1-4aba-a973-1f920b99b538",
   "metadata": {},
   "outputs": [
    {
     "data": {
      "text/plain": [
       "array([19, 18, 17, 16, 15, 14, 13, 12, 11, 10])"
      ]
     },
     "execution_count": 51,
     "metadata": {},
     "output_type": "execute_result"
    }
   ],
   "source": [
    "arr[::-1]"
   ]
  },
  {
   "cell_type": "markdown",
   "id": "9f4c2c38-44bd-435f-9219-166d48c6abb5",
   "metadata": {},
   "source": [
    "# Üretilen matrisin ilk satırını getirin"
   ]
  },
  {
   "cell_type": "code",
   "execution_count": 78,
   "id": "cea197d6-5452-4b4d-b6e1-103f8ad8352b",
   "metadata": {},
   "outputs": [
    {
     "data": {
      "text/plain": [
       "array([20, 48, 28, 16, 25])"
      ]
     },
     "execution_count": 78,
     "metadata": {},
     "output_type": "execute_result"
    }
   ],
   "source": [
    "matris[0]"
   ]
  },
  {
   "cell_type": "markdown",
   "id": "10851f0e-5cc6-42f7-a3e5-dac0c61181b2",
   "metadata": {},
   "source": [
    "# Üretilen matrisin 2. satır 3. sütündaki elemanı"
   ]
  },
  {
   "cell_type": "code",
   "execution_count": 68,
   "id": "53906f66-f96f-4ec8-9d73-37f7406b4622",
   "metadata": {},
   "outputs": [
    {
     "data": {
      "text/plain": [
       "24"
      ]
     },
     "execution_count": 68,
     "metadata": {},
     "output_type": "execute_result"
    }
   ],
   "source": [
    "matris[1,2]"
   ]
  },
  {
   "cell_type": "markdown",
   "id": "24ab2cf3-467c-4ccc-a4fd-8ed4319e536e",
   "metadata": {},
   "source": [
    "# Üretilen matrisin tüm satırlarındaki ilk eleman"
   ]
  },
  {
   "cell_type": "code",
   "execution_count": 69,
   "id": "33d73857-fd33-4510-bd1a-387db0cbe1b3",
   "metadata": {},
   "outputs": [
    {
     "data": {
      "text/plain": [
       "array([20, 33, 34])"
      ]
     },
     "execution_count": 69,
     "metadata": {},
     "output_type": "execute_result"
    }
   ],
   "source": [
    "matris[:,0]"
   ]
  },
  {
   "cell_type": "markdown",
   "id": "f4f62c4a-6efb-4302-adf4-2735d828d1c1",
   "metadata": {},
   "source": [
    "# Üretilen matrisin her bir elemanının karesi"
   ]
  },
  {
   "cell_type": "code",
   "execution_count": 71,
   "id": "6063794e-0a38-42a1-b668-6b953553b8b7",
   "metadata": {},
   "outputs": [
    {
     "data": {
      "text/plain": [
       "array([[ 400, 2304,  784,  256,  625],\n",
       "       [1089,  441,  576, 2209,  225],\n",
       "       [1156, 1225,  784,  441, 1089]])"
      ]
     },
     "execution_count": 71,
     "metadata": {},
     "output_type": "execute_result"
    }
   ],
   "source": [
    "matris**2"
   ]
  },
  {
   "cell_type": "markdown",
   "id": "4f79edc0-865a-4598-9b1a-e1d9a956ccb3",
   "metadata": {},
   "source": [
    "# Üretilen matris elemanlarının hangisi çift elemanlıdır"
   ]
  },
  {
   "cell_type": "code",
   "execution_count": 73,
   "id": "665003d8-f242-4098-97ba-e55d7ecbd5ec",
   "metadata": {},
   "outputs": [],
   "source": [
    "result=matris%2==0"
   ]
  },
  {
   "cell_type": "code",
   "execution_count": 79,
   "id": "a38e3589-81d8-4c8b-b207-3a041be075af",
   "metadata": {},
   "outputs": [
    {
     "data": {
      "text/plain": [
       "array([20, 48, 28, 16, 24, 34, 28])"
      ]
     },
     "execution_count": 79,
     "metadata": {},
     "output_type": "execute_result"
    }
   ],
   "source": [
    "matris[result]"
   ]
  },
  {
   "cell_type": "markdown",
   "id": "4c8a696f-235a-4264-b2ab-cfb928eecd48",
   "metadata": {},
   "source": [
    "# -50 ile +50 arasında matris (3x5) boyutlarında negatif çift sayılar"
   ]
  },
  {
   "cell_type": "code",
   "execution_count": 97,
   "id": "159e2dd2-8799-41e0-a129-220308c87314",
   "metadata": {},
   "outputs": [],
   "source": [
    "matris2=np.random.randint(-50,50,15).reshape(3,5)"
   ]
  },
  {
   "cell_type": "code",
   "execution_count": 98,
   "id": "0c4ae469-2c3b-41e2-bd49-6b5e7bcea91f",
   "metadata": {},
   "outputs": [
    {
     "data": {
      "text/plain": [
       "array([[ 21,  27,  41,  21, -18],\n",
       "       [-28, -34,   4,   2,  37],\n",
       "       [ 46,  24,  20,   3,   8]])"
      ]
     },
     "execution_count": 98,
     "metadata": {},
     "output_type": "execute_result"
    }
   ],
   "source": [
    "matris2"
   ]
  },
  {
   "cell_type": "code",
   "execution_count": 99,
   "id": "7ea62db3-5d84-4893-8a75-e7df5aadf738",
   "metadata": {},
   "outputs": [],
   "source": [
    "ciftler=matris2[matris2%2==0]"
   ]
  },
  {
   "cell_type": "code",
   "execution_count": 100,
   "id": "ca2755f9-7ed9-4235-bd70-3b738df194e4",
   "metadata": {},
   "outputs": [
    {
     "data": {
      "text/plain": [
       "array([-18, -28, -34,   4,   2,  46,  24,  20,   8])"
      ]
     },
     "execution_count": 100,
     "metadata": {},
     "output_type": "execute_result"
    }
   ],
   "source": [
    "ciftler"
   ]
  },
  {
   "cell_type": "code",
   "execution_count": 102,
   "id": "3fd1f484-42e3-4f62-8388-a0ce33719b88",
   "metadata": {},
   "outputs": [],
   "source": [
    "matris2=ciftler[ciftler<0]"
   ]
  },
  {
   "cell_type": "code",
   "execution_count": 103,
   "id": "e9d379fa-5a6f-4294-adda-5ae3210005b8",
   "metadata": {},
   "outputs": [
    {
     "data": {
      "text/plain": [
       "array([-18, -28, -34])"
      ]
     },
     "execution_count": 103,
     "metadata": {},
     "output_type": "execute_result"
    }
   ],
   "source": [
    "matris2"
   ]
  },
  {
   "cell_type": "code",
   "execution_count": null,
   "id": "60adbb47-5e01-46a8-9d99-b202fd56995a",
   "metadata": {},
   "outputs": [],
   "source": []
  }
 ],
 "metadata": {
  "kernelspec": {
   "display_name": "Python 3 (ipykernel)",
   "language": "python",
   "name": "python3"
  },
  "language_info": {
   "codemirror_mode": {
    "name": "ipython",
    "version": 3
   },
   "file_extension": ".py",
   "mimetype": "text/x-python",
   "name": "python",
   "nbconvert_exporter": "python",
   "pygments_lexer": "ipython3",
   "version": "3.10.9"
  }
 },
 "nbformat": 4,
 "nbformat_minor": 5
}
